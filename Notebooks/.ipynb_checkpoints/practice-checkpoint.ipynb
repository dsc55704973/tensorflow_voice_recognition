{
 "cells": [
  {
   "cell_type": "markdown",
   "metadata": {},
   "source": [
    "### Tensorflow Neural Network: Gender Recognition by Voice and Speech Analysis"
   ]
  },
  {
   "cell_type": "markdown",
   "metadata": {},
   "source": [
    "Thank you for reviewing my Jupyter Notebook, which exhibits a neural network model I developed with Tensorflow.  The model is trained on a dataset featuring comprehensive parameters of the human voice (please review section below dedicated to describing the dataset).  Development of the nueral network was straight-forward given how lean the dataset actually is (3,168 records, 20 features) and how inherently robust neural network models are.  \n",
    "\n",
    "Essentially, I trained a model here that will predict the gender of a speaker given these 20 voice parameters.  The end result is a model that generated predictions with 98.23% accuracy, and only 14 wrong predictions!  Pretty remarkable.  The steps to execute this model are generalized as follows: \n",
    "###### Step 1: EDA\n",
    "###### Step 2: Pre-Processing\n",
    "###### Step 3: Model Development\n",
    "###### Step 4: Quantify the Trained Model\n",
    "###### Step 5: Make Predictions\n",
    "###### Step 6: Evaluate Test Results\n",
    "\n",
    "There really wasn't much to the EDA step, except that I just took a cursory look at the features.  In the pre-processing step, I used MinMaxScaler and LabelEncoder to scale the X features and to encode the y variable, and of course TrainTestSplit to get the training and test sets (33% default split).  Model development was also simple, as it only required initiating a sequential model, compiling it, and fitting the model to the categorical X training data with 60 epochs.  Quantifying the model simply involved computing loss and accuracy using evaluate().  In the Making Predictions step, I executed such predictions on scaled test dataset, and then converted the probabilities to class labels to view predictions alongside actuals.  The final step of evaluation entailed recomputing loss and accuracy manually by first computing how many false predictions were made, and finally taking a look at a confusion matrix using Scikit-Learn.\n",
    "\n",
    "The last thing I did was simulate saving and loading the model on new data.  For that, I attempted to leverage ChatGPT on generating a new dataset.  Loading the model on this dataset was unsuccessful, as may be predictable, as the fake dataset failed to capture real patterns that were consistent with the original dataset.  Nevertheless, a template now exists for loading in another dataset in order to test the model's effectiveness on new data.\n",
    "\n",
    "I am proud of my work here and am excited to continue to leverage the power of deep learning for other tasks!\n",
    "\n"
   ]
  },
  {
   "cell_type": "code",
   "execution_count": 356,
   "metadata": {},
   "outputs": [],
   "source": [
    "# Set the seed value for the notebook so the results are reproducible\n",
    "from numpy.random import seed\n",
    "seed(1)"
   ]
  },
  {
   "cell_type": "code",
   "execution_count": 390,
   "metadata": {},
   "outputs": [],
   "source": [
    "# Dependencies\n",
    "import numpy as np\n",
    "import pandas as pd\n",
    "import tensorflow\n",
    "\n",
    "import matplotlib.pyplot as plt\n",
    "\n",
    "from tensorflow.keras.models import Sequential\n",
    "from tensorflow.keras.layers import Dense\n",
    "\n",
    "from collections import Counter\n",
    "from sklearn.metrics import confusion_matrix\n",
    "import seaborn as sns\n",
    "from tensorflow.keras.models import load_model\n",
    "\n",
    "from sklearn.model_selection import train_test_split\n",
    "from sklearn.preprocessing import LabelEncoder, MinMaxScaler\n",
    "from tensorflow.keras.utils import to_categorical"
   ]
  },
  {
   "cell_type": "markdown",
   "metadata": {},
   "source": [
    "# Voice Gender\n",
    "Gender Recognition by Voice and Speech Analysis\n",
    "\n",
    "This database was created to identify a voice as male or female, based upon acoustic properties of the voice and speech. The dataset consists of 3,168 recorded voice samples, collected from male and female speakers. The voice samples are pre-processed by acoustic analysis in R using the seewave and tuneR packages, with an analyzed frequency range of 0hz-280hz (human vocal range).\n",
    "\n",
    "## The Dataset\n",
    "The following acoustic properties of each voice are measured and included within the CSV:\n",
    "\n",
    "* meanfreq: mean frequency (in kHz)\n",
    "* sd: standard deviation of frequency\n",
    "* median: median frequency (in kHz)\n",
    "* Q25: first quantile (in kHz)\n",
    "* Q75: third quantile (in kHz)\n",
    "* IQR: interquantile range (in kHz)\n",
    "* skew: skewness (see note in specprop description)\n",
    "* kurt: kurtosis (see note in specprop description)\n",
    "* sp.ent: spectral entropy\n",
    "* sfm: spectral flatness\n",
    "* mode: mode frequency\n",
    "* centroid: frequency centroid (see specprop)\n",
    "* peakf: peak frequency (frequency with highest energy)\n",
    "* meanfun: average of fundamental frequency measured across acoustic signal\n",
    "* minfun: minimum fundamental frequency measured across acoustic signal\n",
    "* maxfun: maximum fundamental frequency measured across acoustic signal\n",
    "* meandom: average of dominant frequency measured across acoustic signal\n",
    "* mindom: minimum of dominant frequency measured across acoustic signal\n",
    "* maxdom: maximum of dominant frequency measured across acoustic signal\n",
    "* dfrange: range of dominant frequency measured across acoustic signal\n",
    "* modindx: modulation index. Calculated as the accumulated absolute difference between adjacent measurements of fundamental frequencies divided by the frequency range\n",
    "* label: male or female"
   ]
  },
  {
   "cell_type": "code",
   "execution_count": 358,
   "metadata": {
    "slideshow": {
     "slide_type": "fragment"
    }
   },
   "outputs": [
    {
     "data": {
      "text/plain": [
       "Index(['meanfreq', 'sd', 'median', 'Q25', 'Q75', 'IQR', 'skew', 'kurt',\n",
       "       'sp.ent', 'sfm', 'mode', 'centroid', 'meanfun', 'minfun', 'maxfun',\n",
       "       'meandom', 'mindom', 'maxdom', 'dfrange', 'modindx', 'label'],\n",
       "      dtype='object')"
      ]
     },
     "execution_count": 358,
     "metadata": {},
     "output_type": "execute_result"
    }
   ],
   "source": [
    "voice = pd.read_csv('../Resources/voice.csv')\n",
    "voice.columns"
   ]
  },
  {
   "cell_type": "markdown",
   "metadata": {
    "slideshow": {
     "slide_type": "subslide"
    }
   },
   "source": [
    "## Data Pre-Processing"
   ]
  },
  {
   "cell_type": "code",
   "execution_count": 359,
   "metadata": {
    "nbgrader": {
     "grade": false,
     "grade_id": "cell-86a9e3212f200d21",
     "locked": false,
     "schema_version": 1,
     "solution": true
    },
    "slideshow": {
     "slide_type": "subslide"
    }
   },
   "outputs": [
    {
     "name": "stdout",
     "output_type": "stream",
     "text": [
      "(3168, 20) (3168,)\n"
     ]
    }
   ],
   "source": [
    "# set features X and predictor y\n",
    "X = voice.drop(\"label\",axis =1)\n",
    "y = voice[\"label\"]\n",
    "\n",
    "print(X.shape,y.shape)"
   ]
  },
  {
   "cell_type": "code",
   "execution_count": 380,
   "metadata": {
    "nbgrader": {
     "grade": false,
     "grade_id": "cell-711a82d9b32c83ff",
     "locked": false,
     "schema_version": 1,
     "solution": true
    },
    "slideshow": {
     "slide_type": "fragment"
    }
   },
   "outputs": [],
   "source": [
    "# train, test, split\n",
    "X_train, X_test, y_train, y_test = train_test_split(X,y,random_state = 500)\n",
    "\n",
    "# fit X TRAINING SET only with scaler; transform X TRAINING and X TEST sets\n",
    "X_scaler = MinMaxScaler().fit(X_train)\n",
    "X_train_scaled = X_scaler.transform(X_train)\n",
    "X_test_scaled = X_scaler.transform(X_test)\n",
    "\n",
    "# ENCODE Y sets\n",
    "# Step 1: Label-encode data set with LabelEncoder()\n",
    "label_encoder = LabelEncoder()\n",
    "label_encoder.fit(y_train)\n",
    "y_encoded_train = label_encoder.transform(y_train)\n",
    "y_encoded_test = label_encoder.transform(y_test)\n",
    "\n",
    "\n",
    "# Step 2: Convert encoded labels to one-hot-encoding using to_categorical()\n",
    "y_train_categorical = to_categorical(y_encoded_train)\n",
    "y_test_categorical = to_categorical(y_encoded_test)\n"
   ]
  },
  {
   "cell_type": "markdown",
   "metadata": {},
   "source": [
    "# Create a Deep Learning Model"
   ]
  },
  {
   "cell_type": "code",
   "execution_count": 361,
   "metadata": {},
   "outputs": [
    {
     "name": "stderr",
     "output_type": "stream",
     "text": [
      "/opt/anaconda3/lib/python3.11/site-packages/keras/src/layers/core/dense.py:85: UserWarning: Do not pass an `input_shape`/`input_dim` argument to a layer. When using Sequential models, prefer using an `Input(shape)` object as the first layer in the model instead.\n",
      "  super().__init__(activity_regularizer=activity_regularizer, **kwargs)\n"
     ]
    }
   ],
   "source": [
    "# Create neural network model and add layers\n",
    "model = Sequential()\n",
    "model.add(Dense(units = 100, activation = 'relu', input_dim = 20))\n",
    "model.add(Dense(units = 100, activation = 'relu'))\n",
    "model.add(Dense(units=2, activation = 'softmax'))"
   ]
  },
  {
   "cell_type": "code",
   "execution_count": 362,
   "metadata": {},
   "outputs": [
    {
     "data": {
      "text/html": [
       "<pre style=\"white-space:pre;overflow-x:auto;line-height:normal;font-family:Menlo,'DejaVu Sans Mono',consolas,'Courier New',monospace\"><span style=\"font-weight: bold\">Model: \"sequential_21\"</span>\n",
       "</pre>\n"
      ],
      "text/plain": [
       "\u001b[1mModel: \"sequential_21\"\u001b[0m\n"
      ]
     },
     "metadata": {},
     "output_type": "display_data"
    },
    {
     "data": {
      "text/html": [
       "<pre style=\"white-space:pre;overflow-x:auto;line-height:normal;font-family:Menlo,'DejaVu Sans Mono',consolas,'Courier New',monospace\">┏━━━━━━━━━━━━━━━━━━━━━━━━━━━━━━━━━┳━━━━━━━━━━━━━━━━━━━━━━━━┳━━━━━━━━━━━━━━━┓\n",
       "┃<span style=\"font-weight: bold\"> Layer (type)                    </span>┃<span style=\"font-weight: bold\"> Output Shape           </span>┃<span style=\"font-weight: bold\">       Param # </span>┃\n",
       "┡━━━━━━━━━━━━━━━━━━━━━━━━━━━━━━━━━╇━━━━━━━━━━━━━━━━━━━━━━━━╇━━━━━━━━━━━━━━━┩\n",
       "│ dense_55 (<span style=\"color: #0087ff; text-decoration-color: #0087ff\">Dense</span>)                │ (<span style=\"color: #00d7ff; text-decoration-color: #00d7ff\">None</span>, <span style=\"color: #00af00; text-decoration-color: #00af00\">100</span>)            │         <span style=\"color: #00af00; text-decoration-color: #00af00\">2,100</span> │\n",
       "├─────────────────────────────────┼────────────────────────┼───────────────┤\n",
       "│ dense_56 (<span style=\"color: #0087ff; text-decoration-color: #0087ff\">Dense</span>)                │ (<span style=\"color: #00d7ff; text-decoration-color: #00d7ff\">None</span>, <span style=\"color: #00af00; text-decoration-color: #00af00\">100</span>)            │        <span style=\"color: #00af00; text-decoration-color: #00af00\">10,100</span> │\n",
       "├─────────────────────────────────┼────────────────────────┼───────────────┤\n",
       "│ dense_57 (<span style=\"color: #0087ff; text-decoration-color: #0087ff\">Dense</span>)                │ (<span style=\"color: #00d7ff; text-decoration-color: #00d7ff\">None</span>, <span style=\"color: #00af00; text-decoration-color: #00af00\">2</span>)              │           <span style=\"color: #00af00; text-decoration-color: #00af00\">202</span> │\n",
       "└─────────────────────────────────┴────────────────────────┴───────────────┘\n",
       "</pre>\n"
      ],
      "text/plain": [
       "┏━━━━━━━━━━━━━━━━━━━━━━━━━━━━━━━━━┳━━━━━━━━━━━━━━━━━━━━━━━━┳━━━━━━━━━━━━━━━┓\n",
       "┃\u001b[1m \u001b[0m\u001b[1mLayer (type)                   \u001b[0m\u001b[1m \u001b[0m┃\u001b[1m \u001b[0m\u001b[1mOutput Shape          \u001b[0m\u001b[1m \u001b[0m┃\u001b[1m \u001b[0m\u001b[1m      Param #\u001b[0m\u001b[1m \u001b[0m┃\n",
       "┡━━━━━━━━━━━━━━━━━━━━━━━━━━━━━━━━━╇━━━━━━━━━━━━━━━━━━━━━━━━╇━━━━━━━━━━━━━━━┩\n",
       "│ dense_55 (\u001b[38;5;33mDense\u001b[0m)                │ (\u001b[38;5;45mNone\u001b[0m, \u001b[38;5;34m100\u001b[0m)            │         \u001b[38;5;34m2,100\u001b[0m │\n",
       "├─────────────────────────────────┼────────────────────────┼───────────────┤\n",
       "│ dense_56 (\u001b[38;5;33mDense\u001b[0m)                │ (\u001b[38;5;45mNone\u001b[0m, \u001b[38;5;34m100\u001b[0m)            │        \u001b[38;5;34m10,100\u001b[0m │\n",
       "├─────────────────────────────────┼────────────────────────┼───────────────┤\n",
       "│ dense_57 (\u001b[38;5;33mDense\u001b[0m)                │ (\u001b[38;5;45mNone\u001b[0m, \u001b[38;5;34m2\u001b[0m)              │           \u001b[38;5;34m202\u001b[0m │\n",
       "└─────────────────────────────────┴────────────────────────┴───────────────┘\n"
      ]
     },
     "metadata": {},
     "output_type": "display_data"
    },
    {
     "data": {
      "text/html": [
       "<pre style=\"white-space:pre;overflow-x:auto;line-height:normal;font-family:Menlo,'DejaVu Sans Mono',consolas,'Courier New',monospace\"><span style=\"font-weight: bold\"> Total params: </span><span style=\"color: #00af00; text-decoration-color: #00af00\">12,402</span> (48.45 KB)\n",
       "</pre>\n"
      ],
      "text/plain": [
       "\u001b[1m Total params: \u001b[0m\u001b[38;5;34m12,402\u001b[0m (48.45 KB)\n"
      ]
     },
     "metadata": {},
     "output_type": "display_data"
    },
    {
     "data": {
      "text/html": [
       "<pre style=\"white-space:pre;overflow-x:auto;line-height:normal;font-family:Menlo,'DejaVu Sans Mono',consolas,'Courier New',monospace\"><span style=\"font-weight: bold\"> Trainable params: </span><span style=\"color: #00af00; text-decoration-color: #00af00\">12,402</span> (48.45 KB)\n",
       "</pre>\n"
      ],
      "text/plain": [
       "\u001b[1m Trainable params: \u001b[0m\u001b[38;5;34m12,402\u001b[0m (48.45 KB)\n"
      ]
     },
     "metadata": {},
     "output_type": "display_data"
    },
    {
     "data": {
      "text/html": [
       "<pre style=\"white-space:pre;overflow-x:auto;line-height:normal;font-family:Menlo,'DejaVu Sans Mono',consolas,'Courier New',monospace\"><span style=\"font-weight: bold\"> Non-trainable params: </span><span style=\"color: #00af00; text-decoration-color: #00af00\">0</span> (0.00 B)\n",
       "</pre>\n"
      ],
      "text/plain": [
       "\u001b[1m Non-trainable params: \u001b[0m\u001b[38;5;34m0\u001b[0m (0.00 B)\n"
      ]
     },
     "metadata": {},
     "output_type": "display_data"
    }
   ],
   "source": [
    "# Compile the model\n",
    "model.compile(optimizer = 'adam',\n",
    "              loss = 'categorical_crossentropy',\n",
    "              metrics = ['accuracy'])\n",
    "model.summary()"
   ]
  },
  {
   "cell_type": "code",
   "execution_count": 363,
   "metadata": {},
   "outputs": [
    {
     "name": "stdout",
     "output_type": "stream",
     "text": [
      "Epoch 1/60\n",
      "75/75 - 0s - 5ms/step - accuracy: 0.7992 - loss: 0.4733\n",
      "Epoch 2/60\n",
      "75/75 - 0s - 432us/step - accuracy: 0.9386 - loss: 0.2113\n",
      "Epoch 3/60\n",
      "75/75 - 0s - 481us/step - accuracy: 0.9613 - loss: 0.1218\n",
      "Epoch 4/60\n",
      "75/75 - 0s - 481us/step - accuracy: 0.9697 - loss: 0.0962\n",
      "Epoch 5/60\n",
      "75/75 - 0s - 485us/step - accuracy: 0.9726 - loss: 0.0864\n",
      "Epoch 6/60\n",
      "75/75 - 0s - 480us/step - accuracy: 0.9726 - loss: 0.0871\n",
      "Epoch 7/60\n",
      "75/75 - 0s - 490us/step - accuracy: 0.9747 - loss: 0.0772\n",
      "Epoch 8/60\n",
      "75/75 - 0s - 469us/step - accuracy: 0.9722 - loss: 0.0825\n",
      "Epoch 9/60\n",
      "75/75 - 0s - 467us/step - accuracy: 0.9747 - loss: 0.0816\n",
      "Epoch 10/60\n",
      "75/75 - 0s - 469us/step - accuracy: 0.9752 - loss: 0.0755\n",
      "Epoch 11/60\n",
      "75/75 - 0s - 474us/step - accuracy: 0.9773 - loss: 0.0750\n",
      "Epoch 12/60\n",
      "75/75 - 0s - 479us/step - accuracy: 0.9743 - loss: 0.0738\n",
      "Epoch 13/60\n",
      "75/75 - 0s - 457us/step - accuracy: 0.9769 - loss: 0.0748\n",
      "Epoch 14/60\n",
      "75/75 - 0s - 503us/step - accuracy: 0.9785 - loss: 0.0707\n",
      "Epoch 15/60\n",
      "75/75 - 0s - 482us/step - accuracy: 0.9769 - loss: 0.0683\n",
      "Epoch 16/60\n",
      "75/75 - 0s - 489us/step - accuracy: 0.9785 - loss: 0.0703\n",
      "Epoch 17/60\n",
      "75/75 - 0s - 483us/step - accuracy: 0.9802 - loss: 0.0646\n",
      "Epoch 18/60\n",
      "75/75 - 0s - 464us/step - accuracy: 0.9777 - loss: 0.0661\n",
      "Epoch 19/60\n",
      "75/75 - 0s - 492us/step - accuracy: 0.9794 - loss: 0.0668\n",
      "Epoch 20/60\n",
      "75/75 - 0s - 494us/step - accuracy: 0.9769 - loss: 0.0699\n",
      "Epoch 21/60\n",
      "75/75 - 0s - 483us/step - accuracy: 0.9781 - loss: 0.0633\n",
      "Epoch 22/60\n",
      "75/75 - 0s - 491us/step - accuracy: 0.9794 - loss: 0.0611\n",
      "Epoch 23/60\n",
      "75/75 - 0s - 485us/step - accuracy: 0.9819 - loss: 0.0599\n",
      "Epoch 24/60\n",
      "75/75 - 0s - 482us/step - accuracy: 0.9798 - loss: 0.0613\n",
      "Epoch 25/60\n",
      "75/75 - 0s - 494us/step - accuracy: 0.9781 - loss: 0.0638\n",
      "Epoch 26/60\n",
      "75/75 - 0s - 481us/step - accuracy: 0.9806 - loss: 0.0579\n",
      "Epoch 27/60\n",
      "75/75 - 0s - 488us/step - accuracy: 0.9811 - loss: 0.0567\n",
      "Epoch 28/60\n",
      "75/75 - 0s - 492us/step - accuracy: 0.9806 - loss: 0.0593\n",
      "Epoch 29/60\n",
      "75/75 - 0s - 471us/step - accuracy: 0.9773 - loss: 0.0670\n",
      "Epoch 30/60\n",
      "75/75 - 0s - 459us/step - accuracy: 0.9798 - loss: 0.0569\n",
      "Epoch 31/60\n",
      "75/75 - 0s - 474us/step - accuracy: 0.9832 - loss: 0.0536\n",
      "Epoch 32/60\n",
      "75/75 - 0s - 472us/step - accuracy: 0.9802 - loss: 0.0561\n",
      "Epoch 33/60\n",
      "75/75 - 0s - 476us/step - accuracy: 0.9806 - loss: 0.0549\n",
      "Epoch 34/60\n",
      "75/75 - 0s - 471us/step - accuracy: 0.9823 - loss: 0.0569\n",
      "Epoch 35/60\n",
      "75/75 - 0s - 477us/step - accuracy: 0.9823 - loss: 0.0551\n",
      "Epoch 36/60\n",
      "75/75 - 0s - 458us/step - accuracy: 0.9790 - loss: 0.0549\n",
      "Epoch 37/60\n",
      "75/75 - 0s - 487us/step - accuracy: 0.9819 - loss: 0.0505\n",
      "Epoch 38/60\n",
      "75/75 - 0s - 481us/step - accuracy: 0.9819 - loss: 0.0525\n",
      "Epoch 39/60\n",
      "75/75 - 0s - 485us/step - accuracy: 0.9806 - loss: 0.0603\n",
      "Epoch 40/60\n",
      "75/75 - 0s - 476us/step - accuracy: 0.9827 - loss: 0.0545\n",
      "Epoch 41/60\n",
      "75/75 - 0s - 464us/step - accuracy: 0.9827 - loss: 0.0503\n",
      "Epoch 42/60\n",
      "75/75 - 0s - 489us/step - accuracy: 0.9811 - loss: 0.0524\n",
      "Epoch 43/60\n",
      "75/75 - 0s - 490us/step - accuracy: 0.9832 - loss: 0.0488\n",
      "Epoch 44/60\n",
      "75/75 - 0s - 484us/step - accuracy: 0.9747 - loss: 0.0593\n",
      "Epoch 45/60\n",
      "75/75 - 0s - 490us/step - accuracy: 0.9823 - loss: 0.0481\n",
      "Epoch 46/60\n",
      "75/75 - 0s - 483us/step - accuracy: 0.9844 - loss: 0.0451\n",
      "Epoch 47/60\n",
      "75/75 - 0s - 501us/step - accuracy: 0.9844 - loss: 0.0457\n",
      "Epoch 48/60\n",
      "75/75 - 0s - 470us/step - accuracy: 0.9836 - loss: 0.0460\n",
      "Epoch 49/60\n",
      "75/75 - 0s - 466us/step - accuracy: 0.9836 - loss: 0.0437\n",
      "Epoch 50/60\n",
      "75/75 - 0s - 462us/step - accuracy: 0.9848 - loss: 0.0459\n",
      "Epoch 51/60\n",
      "75/75 - 0s - 455us/step - accuracy: 0.9840 - loss: 0.0455\n",
      "Epoch 52/60\n",
      "75/75 - 0s - 467us/step - accuracy: 0.9853 - loss: 0.0429\n",
      "Epoch 53/60\n",
      "75/75 - 0s - 469us/step - accuracy: 0.9853 - loss: 0.0440\n",
      "Epoch 54/60\n",
      "75/75 - 0s - 463us/step - accuracy: 0.9844 - loss: 0.0455\n",
      "Epoch 55/60\n",
      "75/75 - 0s - 476us/step - accuracy: 0.9811 - loss: 0.0502\n",
      "Epoch 56/60\n",
      "75/75 - 0s - 439us/step - accuracy: 0.9836 - loss: 0.0420\n",
      "Epoch 57/60\n",
      "75/75 - 0s - 435us/step - accuracy: 0.9844 - loss: 0.0437\n",
      "Epoch 58/60\n",
      "75/75 - 0s - 437us/step - accuracy: 0.9840 - loss: 0.0443\n",
      "Epoch 59/60\n",
      "75/75 - 0s - 431us/step - accuracy: 0.9853 - loss: 0.0416\n",
      "Epoch 60/60\n",
      "75/75 - 0s - 443us/step - accuracy: 0.9861 - loss: 0.0387\n"
     ]
    },
    {
     "data": {
      "text/plain": [
       "<keras.src.callbacks.history.History at 0x3138b1dd0>"
      ]
     },
     "execution_count": 363,
     "metadata": {},
     "output_type": "execute_result"
    }
   ],
   "source": [
    "# Fit the model\n",
    "model.fit(X_train_scaled,\n",
    "          y_train_categorical,\n",
    "          epochs=60,\n",
    "          shuffle=2,\n",
    "          verbose=2)"
   ]
  },
  {
   "cell_type": "markdown",
   "metadata": {},
   "source": [
    "## Quantify the Trained Model"
   ]
  },
  {
   "cell_type": "code",
   "execution_count": 364,
   "metadata": {},
   "outputs": [
    {
     "name": "stdout",
     "output_type": "stream",
     "text": [
      "25/25 - 0s - 2ms/step - accuracy: 0.9823 - loss: 0.0602\n"
     ]
    }
   ],
   "source": [
    "model_loss, model_accuracy = model.evaluate(\n",
    "    X_test_scaled,\n",
    "    y_test_categorical,\n",
    "    verbose=2)"
   ]
  },
  {
   "cell_type": "markdown",
   "metadata": {
    "slideshow": {
     "slide_type": "subslide"
    }
   },
   "source": [
    "## Make Predictions"
   ]
  },
  {
   "cell_type": "code",
   "execution_count": 365,
   "metadata": {
    "nbgrader": {
     "grade": false,
     "grade_id": "cell-f97eb3e97245187b",
     "locked": false,
     "schema_version": 1,
     "solution": true
    },
    "slideshow": {
     "slide_type": "fragment"
    }
   },
   "outputs": [
    {
     "name": "stdout",
     "output_type": "stream",
     "text": [
      "\u001b[1m25/25\u001b[0m \u001b[32m━━━━━━━━━━━━━━━━━━━━\u001b[0m\u001b[37m\u001b[0m \u001b[1m0s\u001b[0m 712us/step\n"
     ]
    }
   ],
   "source": [
    "# predictions on X_test_scaled\n",
    "predictions = model.predict(X_test_scaled)\n"
   ]
  },
  {
   "cell_type": "code",
   "execution_count": 366,
   "metadata": {},
   "outputs": [],
   "source": [
    "# convert probabilities to class labels\n",
    "encoded_predictions = predictions.argmax(axis=-1)\n",
    "prediction_labels = label_encoder.inverse_transform(encoded_predictions)"
   ]
  },
  {
   "cell_type": "code",
   "execution_count": 367,
   "metadata": {},
   "outputs": [
    {
     "name": "stdout",
     "output_type": "stream",
     "text": [
      "Predictions: ['female' 'female' 'female' 'female' 'female' 'female' 'male' 'female'\n",
      " 'male' 'female' 'female' 'male' 'male' 'male' 'male' 'male' 'female'\n",
      " 'female' 'male' 'male' 'male' 'male' 'female' 'male' 'male' 'male'\n",
      " 'female' 'female' 'female' 'female' 'male' 'male' 'female' 'female'\n",
      " 'male' 'female' 'male' 'male' 'female' 'female' 'male' 'female' 'male'\n",
      " 'male' 'male' 'female' 'female' 'male' 'female' 'female' 'female' 'male'\n",
      " 'male' 'female' 'female' 'female' 'female' 'male' 'female' 'male'\n",
      " 'female' 'male' 'female' 'male' 'female' 'female' 'male' 'male' 'female'\n",
      " 'male' 'male' 'female' 'female' 'female' 'male' 'female' 'male' 'male'\n",
      " 'male' 'female' 'female' 'female' 'male' 'female' 'male' 'male' 'female'\n",
      " 'female' 'female' 'female' 'female' 'male' 'male' 'male' 'female'\n",
      " 'female' 'male' 'female' 'male' 'female' 'male' 'female' 'male' 'female'\n",
      " 'male' 'female' 'male' 'male' 'male' 'female' 'male' 'male' 'male' 'male'\n",
      " 'male' 'male' 'male' 'female' 'female' 'male' 'female' 'male' 'male'\n",
      " 'male' 'female' 'female' 'female' 'female' 'female' 'male' 'male'\n",
      " 'female' 'female' 'female' 'male' 'female' 'male' 'male' 'female'\n",
      " 'female' 'female' 'male' 'male' 'female' 'female' 'female' 'male'\n",
      " 'female' 'female' 'male' 'male' 'female' 'male' 'female' 'male' 'male'\n",
      " 'male' 'female' 'female' 'female' 'female' 'female' 'female' 'female'\n",
      " 'male' 'male' 'male' 'female' 'male' 'female' 'male' 'male' 'male'\n",
      " 'female' 'female' 'female' 'female' 'female' 'female' 'male' 'male'\n",
      " 'female' 'female' 'female' 'female' 'male' 'female' 'male' 'female'\n",
      " 'male' 'female' 'male' 'male' 'female' 'male' 'female' 'male' 'female'\n",
      " 'male' 'female' 'male' 'male' 'male' 'male' 'female' 'female' 'female'\n",
      " 'female' 'female' 'female' 'female' 'male' 'male' 'female' 'male'\n",
      " 'female' 'male' 'female' 'female' 'female' 'male' 'male' 'male' 'female'\n",
      " 'male' 'female' 'male' 'male' 'male' 'female' 'female' 'male' 'female'\n",
      " 'male' 'female' 'male' 'male' 'female' 'female' 'female' 'female' 'male'\n",
      " 'female' 'female' 'male' 'male' 'male' 'female' 'female' 'female' 'male'\n",
      " 'male' 'female' 'male' 'male' 'female' 'male' 'male' 'male' 'male'\n",
      " 'female' 'male' 'female' 'male' 'male' 'female' 'female' 'female'\n",
      " 'female' 'male' 'male' 'male' 'male' 'male' 'female' 'female' 'female'\n",
      " 'male' 'male' 'male' 'male' 'male' 'female' 'male' 'male' 'female'\n",
      " 'female' 'male' 'female' 'female' 'male' 'female' 'female' 'female'\n",
      " 'male' 'female' 'male' 'male' 'female' 'male' 'female' 'male' 'female'\n",
      " 'female' 'male' 'female' 'male' 'female' 'female' 'female' 'male'\n",
      " 'female' 'male' 'female' 'female' 'male' 'male' 'male' 'male' 'female'\n",
      " 'female' 'female' 'male' 'male' 'male' 'female' 'male' 'male' 'male'\n",
      " 'male' 'female' 'female' 'female' 'male' 'female' 'female' 'male' 'male'\n",
      " 'male' 'male' 'female' 'male' 'male' 'male' 'female' 'male' 'male'\n",
      " 'female' 'female' 'female' 'male' 'male' 'female' 'female' 'female'\n",
      " 'male' 'male' 'female' 'male' 'female' 'female' 'male' 'male' 'male'\n",
      " 'male' 'male' 'male' 'male' 'male' 'female' 'male' 'female' 'female'\n",
      " 'male' 'male' 'male' 'female' 'female' 'male' 'female' 'female' 'female'\n",
      " 'male' 'female' 'male' 'male' 'male' 'male' 'male' 'male' 'male' 'male'\n",
      " 'male' 'male' 'male' 'male' 'female' 'male' 'male' 'male' 'female' 'male'\n",
      " 'male' 'female' 'male' 'male' 'female' 'female' 'male' 'female' 'male'\n",
      " 'male' 'male' 'female' 'male' 'male' 'female' 'female' 'female' 'female'\n",
      " 'male' 'male' 'female' 'female' 'male' 'male' 'female' 'male' 'female'\n",
      " 'female' 'male' 'female' 'male' 'female' 'male' 'male' 'male' 'male'\n",
      " 'female' 'female' 'female' 'male' 'female' 'male' 'male' 'female' 'male'\n",
      " 'female' 'female' 'male' 'male' 'female' 'female' 'female' 'male' 'male'\n",
      " 'male' 'male' 'female' 'female' 'male' 'female' 'female' 'male' 'male'\n",
      " 'female' 'female' 'male' 'male' 'female' 'female' 'male' 'female' 'male'\n",
      " 'male' 'male' 'male' 'male' 'male' 'female' 'male' 'male' 'male' 'female'\n",
      " 'female' 'female' 'female' 'female' 'male' 'male' 'male' 'male' 'male'\n",
      " 'male' 'female' 'male' 'male' 'female' 'male' 'female' 'female' 'male'\n",
      " 'male' 'female' 'female' 'male' 'female' 'female' 'male' 'male' 'male'\n",
      " 'female' 'male' 'male' 'male' 'female' 'male' 'female' 'male' 'female'\n",
      " 'female' 'female' 'male' 'male' 'male' 'male' 'male' 'male' 'male'\n",
      " 'female' 'female' 'male' 'female' 'female' 'male' 'female' 'male' 'male'\n",
      " 'female' 'male' 'male' 'male' 'male' 'female' 'female' 'female' 'male'\n",
      " 'male' 'female' 'female' 'male' 'female' 'male' 'female' 'female' 'male'\n",
      " 'male' 'female' 'female' 'male' 'female' 'female' 'male' 'female'\n",
      " 'female' 'female' 'female' 'female' 'male' 'male' 'male' 'male' 'male'\n",
      " 'female' 'female' 'female' 'male' 'female' 'male' 'female' 'female'\n",
      " 'male' 'female' 'female' 'female' 'male' 'female' 'male' 'female'\n",
      " 'female' 'male' 'female' 'female' 'male' 'female' 'female' 'female'\n",
      " 'male' 'female' 'male' 'female' 'female' 'male' 'male' 'male' 'male'\n",
      " 'female' 'female' 'male' 'male' 'female' 'female' 'male' 'male' 'male'\n",
      " 'male' 'female' 'female' 'female' 'female' 'female' 'male' 'male' 'male'\n",
      " 'male' 'female' 'female' 'male' 'female' 'male' 'female' 'male' 'female'\n",
      " 'male' 'male' 'male' 'male' 'male' 'female' 'male' 'male' 'male' 'female'\n",
      " 'male' 'male' 'male' 'male' 'female' 'female' 'female' 'female' 'male'\n",
      " 'female' 'female' 'male' 'male' 'female' 'female' 'female' 'male'\n",
      " 'female' 'male' 'male' 'female' 'male' 'female' 'male' 'male' 'female'\n",
      " 'female' 'female' 'male' 'male' 'female' 'male' 'female' 'male' 'female'\n",
      " 'female' 'female' 'female' 'female' 'female' 'female' 'female' 'male'\n",
      " 'male' 'male' 'female' 'male' 'female' 'female' 'female' 'female'\n",
      " 'female' 'male' 'male' 'male' 'male' 'male' 'male' 'male' 'female'\n",
      " 'female' 'female' 'male' 'female' 'male' 'female' 'male' 'female' 'male'\n",
      " 'male' 'male' 'female' 'male' 'female' 'female' 'male' 'male' 'male'\n",
      " 'female' 'female' 'male' 'male' 'male' 'male' 'male' 'female' 'female'\n",
      " 'female' 'female' 'male' 'female' 'female' 'female' 'male' 'female'\n",
      " 'female' 'female' 'male' 'male' 'female' 'male' 'male' 'male' 'male'\n",
      " 'female' 'male' 'male' 'female' 'female' 'female' 'female' 'male'\n",
      " 'female' 'female' 'male' 'female' 'male' 'female' 'female' 'male' 'male'\n",
      " 'male' 'male' 'female' 'male' 'female' 'female' 'female' 'female'\n",
      " 'female' 'female' 'female' 'female' 'female' 'female' 'female' 'male'\n",
      " 'female' 'male' 'male' 'female' 'male' 'female' 'female' 'male' 'male'\n",
      " 'female' 'male' 'male']\n",
      "Actuals: ['female', 'female', 'female', 'female', 'female', 'female', 'male', 'female', 'male', 'female', 'female', 'male', 'male', 'male', 'male', 'male', 'female', 'female', 'male', 'male', 'male', 'male', 'female', 'male', 'male', 'male', 'female', 'female', 'female', 'female', 'male', 'male', 'female', 'female', 'male', 'female', 'male', 'male', 'female', 'female', 'male', 'female', 'male', 'male', 'male', 'female', 'female', 'male', 'female', 'female', 'female', 'male', 'female', 'female', 'female', 'female', 'female', 'male', 'female', 'male', 'female', 'male', 'female', 'male', 'female', 'female', 'male', 'male', 'female', 'male', 'male', 'female', 'female', 'female', 'male', 'female', 'male', 'male', 'male', 'female', 'female', 'female', 'male', 'female', 'male', 'male', 'female', 'female', 'female', 'female', 'female', 'male', 'male', 'female', 'female', 'female', 'male', 'female', 'male', 'female', 'male', 'female', 'male', 'female', 'male', 'female', 'male', 'male', 'male', 'female', 'male', 'male', 'male', 'male', 'male', 'male', 'male', 'male', 'female', 'male', 'female', 'male', 'male', 'male', 'female', 'female', 'female', 'female', 'female', 'male', 'male', 'female', 'female', 'female', 'male', 'female', 'male', 'male', 'female', 'female', 'female', 'male', 'male', 'female', 'female', 'female', 'male', 'female', 'female', 'male', 'male', 'female', 'male', 'female', 'male', 'male', 'male', 'female', 'female', 'female', 'female', 'female', 'female', 'female', 'male', 'male', 'male', 'female', 'male', 'female', 'male', 'male', 'male', 'female', 'female', 'female', 'female', 'female', 'female', 'male', 'male', 'female', 'female', 'female', 'female', 'male', 'female', 'male', 'male', 'male', 'female', 'male', 'male', 'female', 'male', 'female', 'male', 'female', 'male', 'female', 'male', 'male', 'male', 'male', 'female', 'female', 'female', 'female', 'female', 'female', 'female', 'male', 'male', 'female', 'male', 'female', 'male', 'female', 'female', 'female', 'male', 'male', 'male', 'female', 'male', 'female', 'male', 'male', 'male', 'female', 'female', 'male', 'female', 'male', 'female', 'male', 'male', 'female', 'female', 'female', 'female', 'male', 'female', 'female', 'male', 'male', 'male', 'female', 'female', 'female', 'male', 'male', 'female', 'male', 'male', 'female', 'male', 'male', 'male', 'male', 'female', 'male', 'female', 'male', 'male', 'female', 'female', 'female', 'female', 'male', 'male', 'male', 'male', 'male', 'female', 'female', 'female', 'male', 'male', 'male', 'male', 'male', 'female', 'male', 'male', 'male', 'female', 'male', 'female', 'female', 'male', 'female', 'female', 'female', 'male', 'female', 'male', 'male', 'male', 'male', 'male', 'male', 'female', 'female', 'male', 'female', 'male', 'female', 'female', 'female', 'male', 'female', 'male', 'female', 'female', 'male', 'male', 'male', 'male', 'female', 'female', 'male', 'male', 'male', 'male', 'female', 'male', 'male', 'male', 'male', 'female', 'female', 'female', 'male', 'female', 'female', 'male', 'male', 'male', 'male', 'female', 'male', 'male', 'male', 'female', 'male', 'male', 'female', 'female', 'female', 'male', 'male', 'female', 'female', 'female', 'male', 'male', 'female', 'male', 'female', 'female', 'male', 'male', 'male', 'female', 'male', 'male', 'male', 'male', 'female', 'male', 'female', 'female', 'male', 'male', 'male', 'female', 'female', 'male', 'female', 'female', 'female', 'male', 'female', 'male', 'male', 'male', 'male', 'male', 'male', 'male', 'male', 'male', 'male', 'male', 'male', 'female', 'male', 'male', 'male', 'female', 'male', 'male', 'female', 'male', 'male', 'female', 'female', 'male', 'female', 'male', 'male', 'male', 'female', 'male', 'male', 'female', 'female', 'female', 'female', 'male', 'male', 'female', 'female', 'male', 'male', 'female', 'male', 'female', 'female', 'male', 'female', 'male', 'female', 'male', 'male', 'male', 'male', 'female', 'female', 'female', 'male', 'female', 'male', 'male', 'female', 'male', 'female', 'female', 'male', 'male', 'female', 'female', 'female', 'male', 'male', 'male', 'male', 'female', 'female', 'male', 'female', 'female', 'male', 'male', 'female', 'female', 'male', 'male', 'female', 'female', 'male', 'female', 'male', 'male', 'male', 'male', 'male', 'male', 'female', 'male', 'male', 'male', 'female', 'female', 'female', 'female', 'female', 'male', 'male', 'male', 'male', 'male', 'male', 'female', 'male', 'male', 'female', 'male', 'female', 'female', 'male', 'male', 'female', 'female', 'male', 'female', 'female', 'male', 'male', 'male', 'female', 'male', 'male', 'male', 'female', 'male', 'female', 'male', 'female', 'female', 'female', 'male', 'male', 'male', 'male', 'male', 'male', 'male', 'female', 'female', 'male', 'female', 'female', 'male', 'female', 'male', 'male', 'female', 'male', 'male', 'male', 'male', 'female', 'female', 'female', 'male', 'male', 'female', 'female', 'male', 'female', 'male', 'female', 'female', 'male', 'male', 'female', 'female', 'male', 'female', 'female', 'male', 'female', 'female', 'female', 'female', 'female', 'male', 'male', 'male', 'male', 'male', 'female', 'female', 'female', 'male', 'female', 'male', 'female', 'female', 'male', 'female', 'female', 'female', 'male', 'female', 'male', 'female', 'female', 'male', 'female', 'female', 'male', 'female', 'female', 'female', 'male', 'female', 'male', 'female', 'female', 'male', 'male', 'male', 'male', 'female', 'female', 'male', 'male', 'female', 'female', 'male', 'male', 'male', 'male', 'female', 'female', 'female', 'female', 'female', 'male', 'male', 'male', 'male', 'female', 'female', 'male', 'female', 'male', 'female', 'male', 'female', 'male', 'male', 'male', 'female', 'male', 'female', 'male', 'male', 'male', 'female', 'male', 'male', 'male', 'male', 'female', 'female', 'female', 'female', 'male', 'female', 'female', 'male', 'male', 'female', 'female', 'female', 'male', 'female', 'male', 'male', 'female', 'male', 'female', 'female', 'male', 'female', 'female', 'female', 'male', 'female', 'female', 'male', 'female', 'male', 'female', 'female', 'female', 'female', 'female', 'female', 'female', 'female', 'male', 'male', 'male', 'female', 'male', 'female', 'female', 'female', 'female', 'female', 'male', 'male', 'male', 'male', 'male', 'male', 'male', 'female', 'female', 'female', 'male', 'female', 'male', 'female', 'male', 'female', 'male', 'male', 'male', 'female', 'male', 'female', 'female', 'male', 'male', 'male', 'female', 'female', 'male', 'male', 'male', 'male', 'male', 'female', 'female', 'female', 'female', 'male', 'female', 'male', 'female', 'male', 'female', 'female', 'female', 'male', 'male', 'female', 'male', 'male', 'male', 'male', 'female', 'male', 'male', 'female', 'female', 'female', 'female', 'male', 'female', 'female', 'male', 'female', 'male', 'female', 'female', 'male', 'male', 'male', 'male', 'female', 'male', 'female', 'female', 'female', 'female', 'female', 'female', 'male', 'female', 'female', 'female', 'female', 'male', 'female', 'male', 'male', 'female', 'male', 'female', 'female', 'male', 'male', 'female', 'male', 'male']\n"
     ]
    }
   ],
   "source": [
    "# print predictions vs. actuals\n",
    "print(f'Predictions: {prediction_labels}')\n",
    "print(f'Actuals: {list(y_test)}')\n"
   ]
  },
  {
   "cell_type": "markdown",
   "metadata": {},
   "source": [
    "## Evaluation"
   ]
  },
  {
   "cell_type": "code",
   "execution_count": 368,
   "metadata": {},
   "outputs": [
    {
     "name": "stdout",
     "output_type": "stream",
     "text": [
      "14 false predictions out of 792 predictions ---> Counter({'male': 403, 'female': 389})\n",
      "Accuracy: 98.23%\n",
      "Check Accuracy: 98.22999999999999%\n"
     ]
    }
   ],
   "source": [
    "# loss and accuracy\n",
    "false_predictions = prediction_labels != y_test\n",
    "num_false_predictions = np.sum(false_predictions)\n",
    "totalPredictions = len(prediction_labels)\n",
    "\n",
    "print(f'{num_false_predictions} false predictions out of {totalPredictions} predictions ---> {Counter(prediction_labels)}')\n",
    "print(f'Accuracy: {round((totalPredictions-num_false_predictions) / totalPredictions * 100,2)}%')\n",
    "print(f'Check Accuracy: {round(model_accuracy,4)*100}%')"
   ]
  },
  {
   "cell_type": "code",
   "execution_count": 369,
   "metadata": {},
   "outputs": [
    {
     "data": {
      "image/png": "[encoded data removed]",
      "text/plain": [
       "<Figure size 1000x700 with 2 Axes>"
      ]
     },
     "metadata": {},
     "output_type": "display_data"
    },
    {
     "name": "stdout",
     "output_type": "stream",
     "text": [
      "[0 0 0 0 0 0 1 0 1 0 0 1 1 1 1 1 0 0 1 1 1 1 0 1 1 1 0 0 0 0 1 1 0 0 1 0 1\n",
      " 1 0 0 1 0 1 1 1 0 0 1 0 0 0 1 1 0 0 0 0 1 0 1 0 1 0 1 0 0 1 1 0 1 1 0 0 0\n",
      " 1 0 1 1 1 0 0 0 1 0 1 1 0 0 0 0 0 1 1 1 0 0 1 0 1 0 1 0 1 0 1 0 1 1 1 0 1\n",
      " 1 1 1 1 1 1 0 0 1 0 1 1 1 0 0 0 0 0 1 1 0 0 0 1 0 1 1 0 0 0 1 1 0 0 0 1 0\n",
      " 0 1 1 0 1 0 1 1 1 0 0 0 0 0 0 0 1 1 1 0 1 0 1 1 1 0 0 0 0 0 0 1 1 0 0 0 0\n",
      " 1 0 1 0 1 0 1 1 0 1 0 1 0 1 0 1 1 1 1 0 0 0 0 0 0 0 1 1 0 1 0 1 0 0 0 1 1\n",
      " 1 0 1 0 1 1 1 0 0 1 0 1 0 1 1 0 0 0 0 1 0 0 1 1 1 0 0 0 1 1 0 1 1 0 1 1 1\n",
      " 1 0 1 0 1 1 0 0 0 0 1 1 1 1 1 0 0 0 1 1 1 1 1 0 1 1 0 0 1 0 0 1 0 0 0 1 0\n",
      " 1 1 0 1 0 1 0 0 1 0 1 0 0 0 1 0 1 0 0 1 1 1 1 0 0 0 1 1 1 0 1 1 1 1 0 0 0\n",
      " 1 0 0 1 1 1 1 0 1 1 1 0 1 1 0 0 0 1 1 0 0 0 1 1 0 1 0 0 1 1 1 1 1 1 1 1 0\n",
      " 1 0 0 1 1 1 0 0 1 0 0 0 1 0 1 1 1 1 1 1 1 1 1 1 1 1 0 1 1 1 0 1 1 0 1 1 0\n",
      " 0 1 0 1 1 1 0 1 1 0 0 0 0 1 1 0 0 1 1 0 1 0 0 1 0 1 0 1 1 1 1 0 0 0 1 0 1\n",
      " 1 0 1 0 0 1 1 0 0 0 1 1 1 1 0 0 1 0 0 1 1 0 0 1 1 0 0 1 0 1 1 1 1 1 1 0 1\n",
      " 1 1 0 0 0 0 0 1 1 1 1 1 1 0 1 1 0 1 0 0 1 1 0 0 1 0 0 1 1 1 0 1 1 1 0 1 0\n",
      " 1 0 0 0 1 1 1 1 1 1 1 0 0 1 0 0 1 0 1 1 0 1 1 1 1 0 0 0 1 1 0 0 1 0 1 0 0\n",
      " 1 1 0 0 1 0 0 1 0 0 0 0 0 1 1 1 1 1 0 0 0 1 0 1 0 0 1 0 0 0 1 0 1 0 0 1 0\n",
      " 0 1 0 0 0 1 0 1 0 0 1 1 1 1 0 0 1 1 0 0 1 1 1 1 0 0 0 0 0 1 1 1 1 0 0 1 0\n",
      " 1 0 1 0 1 1 1 1 1 0 1 1 1 0 1 1 1 1 0 0 0 0 1 0 0 1 1 0 0 0 1 0 1 1 0 1 0\n",
      " 1 1 0 0 0 1 1 0 1 0 1 0 0 0 0 0 0 0 0 1 1 1 0 1 0 0 0 0 0 1 1 1 1 1 1 1 0\n",
      " 0 0 1 0 1 0 1 0 1 1 1 0 1 0 0 1 1 1 0 0 1 1 1 1 1 0 0 0 0 1 0 0 0 1 0 0 0\n",
      " 1 1 0 1 1 1 1 0 1 1 0 0 0 0 1 0 0 1 0 1 0 0 1 1 1 1 0 1 0 0 0 0 0 0 0 0 0\n",
      " 0 0 1 0 1 1 0 1 0 0 1 1 0 1 1]\n",
      "[0 0 0 0 0 0 1 0 1 0 0 1 1 1 1 1 0 0 1 1 1 1 0 1 1 1 0 0 0 0 1 1 0 0 1 0 1\n",
      " 1 0 0 1 0 1 1 1 0 0 1 0 0 0 1 0 0 0 0 0 1 0 1 0 1 0 1 0 0 1 1 0 1 1 0 0 0\n",
      " 1 0 1 1 1 0 0 0 1 0 1 1 0 0 0 0 0 1 1 0 0 0 1 0 1 0 1 0 1 0 1 0 1 1 1 0 1\n",
      " 1 1 1 1 1 1 1 0 1 0 1 1 1 0 0 0 0 0 1 1 0 0 0 1 0 1 1 0 0 0 1 1 0 0 0 1 0\n",
      " 0 1 1 0 1 0 1 1 1 0 0 0 0 0 0 0 1 1 1 0 1 0 1 1 1 0 0 0 0 0 0 1 1 0 0 0 0\n",
      " 1 0 1 1 1 0 1 1 0 1 0 1 0 1 0 1 1 1 1 0 0 0 0 0 0 0 1 1 0 1 0 1 0 0 0 1 1\n",
      " 1 0 1 0 1 1 1 0 0 1 0 1 0 1 1 0 0 0 0 1 0 0 1 1 1 0 0 0 1 1 0 1 1 0 1 1 1\n",
      " 1 0 1 0 1 1 0 0 0 0 1 1 1 1 1 0 0 0 1 1 1 1 1 0 1 1 1 0 1 0 0 1 0 0 0 1 0\n",
      " 1 1 1 1 1 1 0 0 1 0 1 0 0 0 1 0 1 0 0 1 1 1 1 0 0 1 1 1 1 0 1 1 1 1 0 0 0\n",
      " 1 0 0 1 1 1 1 0 1 1 1 0 1 1 0 0 0 1 1 0 0 0 1 1 0 1 0 0 1 1 1 0 1 1 1 1 0\n",
      " 1 0 0 1 1 1 0 0 1 0 0 0 1 0 1 1 1 1 1 1 1 1 1 1 1 1 0 1 1 1 0 1 1 0 1 1 0\n",
      " 0 1 0 1 1 1 0 1 1 0 0 0 0 1 1 0 0 1 1 0 1 0 0 1 0 1 0 1 1 1 1 0 0 0 1 0 1\n",
      " 1 0 1 0 0 1 1 0 0 0 1 1 1 1 0 0 1 0 0 1 1 0 0 1 1 0 0 1 0 1 1 1 1 1 1 0 1\n",
      " 1 1 0 0 0 0 0 1 1 1 1 1 1 0 1 1 0 1 0 0 1 1 0 0 1 0 0 1 1 1 0 1 1 1 0 1 0\n",
      " 1 0 0 0 1 1 1 1 1 1 1 0 0 1 0 0 1 0 1 1 0 1 1 1 1 0 0 0 1 1 0 0 1 0 1 0 0\n",
      " 1 1 0 0 1 0 0 1 0 0 0 0 0 1 1 1 1 1 0 0 0 1 0 1 0 0 1 0 0 0 1 0 1 0 0 1 0\n",
      " 0 1 0 0 0 1 0 1 0 0 1 1 1 1 0 0 1 1 0 0 1 1 1 1 0 0 0 0 0 1 1 1 1 0 0 1 0\n",
      " 1 0 1 0 1 1 1 0 1 0 1 1 1 0 1 1 1 1 0 0 0 0 1 0 0 1 1 0 0 0 1 0 1 1 0 1 0\n",
      " 0 1 0 0 0 1 0 0 1 0 1 0 0 0 0 0 0 0 0 1 1 1 0 1 0 0 0 0 0 1 1 1 1 1 1 1 0\n",
      " 0 0 1 0 1 0 1 0 1 1 1 0 1 0 0 1 1 1 0 0 1 1 1 1 1 0 0 0 0 1 0 1 0 1 0 0 0\n",
      " 1 1 0 1 1 1 1 0 1 1 0 0 0 0 1 0 0 1 0 1 0 0 1 1 1 1 0 1 0 0 0 0 0 0 1 0 0\n",
      " 0 0 1 0 1 1 0 1 0 0 1 1 0 1 1]\n"
     ]
    }
   ],
   "source": [
    "# confusion matrix\n",
    "cm = confusion_matrix(y_encoded_test,encoded_predictions)\n",
    "\n",
    "plt.figure(figsize=(10, 7))\n",
    "sns.heatmap(cm, annot=True, fmt=\"d\", cmap='Blues')\n",
    "plt.ylabel('Actual Label')\n",
    "plt.xlabel('Predicted Label')\n",
    "plt.title('Confusion Matrix')\n",
    "plt.show()\n",
    "\n",
    "print(encoded_predictions)\n",
    "print(y_encoded_test)"
   ]
  },
  {
   "cell_type": "markdown",
   "metadata": {},
   "source": [
    "## Save Model"
   ]
  },
  {
   "cell_type": "code",
   "execution_count": 370,
   "metadata": {},
   "outputs": [],
   "source": [
    "model.save(\"voice_gender_nn_model.keras\")"
   ]
  },
  {
   "cell_type": "markdown",
   "metadata": {},
   "source": [
    "## New Dataset: Attempt to Execute Predictive Analytics on Alternate Dataset"
   ]
  },
  {
   "cell_type": "code",
   "execution_count": 371,
   "metadata": {},
   "outputs": [],
   "source": [
    "# Load in new dataset (labels randomized in new file)\n",
    "voice2 = pd.read_csv('../Resources/voice2.csv')\n"
   ]
  },
  {
   "cell_type": "code",
   "execution_count": 372,
   "metadata": {},
   "outputs": [],
   "source": [
    "# Pre-processing\n",
    "X2 = voice2.drop(\"label\",axis =1)\n",
    "y2 = voice2[\"label\"]\n",
    "\n",
    "# train, test, split\n",
    "X_train2, X_test2, y_train2, y_test2 = train_test_split(X2,y2,random_state = 2)\n",
    "\n",
    "# fit X TRAINING SET only with scaler; transform X TRAINING and X TEST sets\n",
    "X_scaler2 = MinMaxScaler().fit(X_train2)\n",
    "X_train_scaled2 = X_scaler2.transform(X_train2)\n",
    "X_test_scaled2 = X_scaler2.transform(X_test2)\n",
    "\n",
    "# ENCODE Y sets\n",
    "# Step 1: Label-encode data set with LabelEncoder()\n",
    "label_encoder = LabelEncoder()\n",
    "label_encoder.fit(y_train2)\n",
    "y_encoded_train2 = label_encoder.transform(y_train2)\n",
    "y_encoded_test2 = label_encoder.transform(y_test2)\n",
    "\n",
    "\n",
    "# Step 2: Convert encoded labels to one-hot-encoding using to_categorical()\n",
    "y_train_categorical2 = to_categorical(y_encoded_train2)\n",
    "y_test_categorical2 = to_categorical(y_encoded_test2)\n",
    "\n"
   ]
  },
  {
   "cell_type": "code",
   "execution_count": 373,
   "metadata": {},
   "outputs": [],
   "source": [
    "# Load model\n",
    "model = load_model('voice_gender_nn_model.keras')\n"
   ]
  },
  {
   "cell_type": "code",
   "execution_count": 374,
   "metadata": {},
   "outputs": [
    {
     "name": "stdout",
     "output_type": "stream",
     "text": [
      "\u001b[1m25/25\u001b[0m \u001b[32m━━━━━━━━━━━━━━━━━━━━\u001b[0m\u001b[37m\u001b[0m \u001b[1m0s\u001b[0m 788us/step\n"
     ]
    }
   ],
   "source": [
    "# Attempt predictions\n",
    "predictions2 = model.predict(X_test_scaled2)\n",
    "encoded_predictions2 = predictions2.argmax(axis=-1)\n",
    "prediction_labels2 = label_encoder.inverse_transform(encoded_predictions2)\n"
   ]
  },
  {
   "cell_type": "code",
   "execution_count": 375,
   "metadata": {},
   "outputs": [
    {
     "name": "stdout",
     "output_type": "stream",
     "text": [
      "399 false predictions out of 792 predictions ---> Counter({'female': 425, 'male': 367})\n",
      "Accuracy: 49.62%\n"
     ]
    }
   ],
   "source": [
    "# Evaluate \n",
    "\n",
    "false_predictions2 = prediction_labels2 != y_test2\n",
    "num_false_predictions2 = np.sum(false_predictions2)\n",
    "totalPredictions2 = len(prediction_labels2)\n",
    "\n",
    "print(f'{num_false_predictions2} false predictions out of {totalPredictions2} predictions ---> {Counter(prediction_labels2)}')\n",
    "print(f'Accuracy: {round((totalPredictions-num_false_predictions2) / totalPredictions2 * 100,2)}%')\n"
   ]
  },
  {
   "cell_type": "markdown",
   "metadata": {},
   "source": [
    "#### FAIL (hypothesis: new dataset and unseen patterns are inconsistent with original dataset)"
   ]
  },
  {
   "cell_type": "markdown",
   "metadata": {},
   "source": [
    "## Attempt to retrain new model on new data and retry predictions"
   ]
  },
  {
   "cell_type": "code",
   "execution_count": 376,
   "metadata": {},
   "outputs": [
    {
     "name": "stderr",
     "output_type": "stream",
     "text": [
      "/opt/anaconda3/lib/python3.11/site-packages/keras/src/layers/core/dense.py:85: UserWarning: Do not pass an `input_shape`/`input_dim` argument to a layer. When using Sequential models, prefer using an `Input(shape)` object as the first layer in the model instead.\n",
      "  super().__init__(activity_regularizer=activity_regularizer, **kwargs)\n"
     ]
    },
    {
     "data": {
      "text/html": [
       "<pre style=\"white-space:pre;overflow-x:auto;line-height:normal;font-family:Menlo,'DejaVu Sans Mono',consolas,'Courier New',monospace\"><span style=\"font-weight: bold\">Model: \"sequential_22\"</span>\n",
       "</pre>\n"
      ],
      "text/plain": [
       "\u001b[1mModel: \"sequential_22\"\u001b[0m\n"
      ]
     },
     "metadata": {},
     "output_type": "display_data"
    },
    {
     "data": {
      "text/html": [
       "<pre style=\"white-space:pre;overflow-x:auto;line-height:normal;font-family:Menlo,'DejaVu Sans Mono',consolas,'Courier New',monospace\">┏━━━━━━━━━━━━━━━━━━━━━━━━━━━━━━━━━┳━━━━━━━━━━━━━━━━━━━━━━━━┳━━━━━━━━━━━━━━━┓\n",
       "┃<span style=\"font-weight: bold\"> Layer (type)                    </span>┃<span style=\"font-weight: bold\"> Output Shape           </span>┃<span style=\"font-weight: bold\">       Param # </span>┃\n",
       "┡━━━━━━━━━━━━━━━━━━━━━━━━━━━━━━━━━╇━━━━━━━━━━━━━━━━━━━━━━━━╇━━━━━━━━━━━━━━━┩\n",
       "│ dense_58 (<span style=\"color: #0087ff; text-decoration-color: #0087ff\">Dense</span>)                │ (<span style=\"color: #00d7ff; text-decoration-color: #00d7ff\">None</span>, <span style=\"color: #00af00; text-decoration-color: #00af00\">100</span>)            │         <span style=\"color: #00af00; text-decoration-color: #00af00\">2,100</span> │\n",
       "├─────────────────────────────────┼────────────────────────┼───────────────┤\n",
       "│ dense_59 (<span style=\"color: #0087ff; text-decoration-color: #0087ff\">Dense</span>)                │ (<span style=\"color: #00d7ff; text-decoration-color: #00d7ff\">None</span>, <span style=\"color: #00af00; text-decoration-color: #00af00\">100</span>)            │        <span style=\"color: #00af00; text-decoration-color: #00af00\">10,100</span> │\n",
       "├─────────────────────────────────┼────────────────────────┼───────────────┤\n",
       "│ dense_60 (<span style=\"color: #0087ff; text-decoration-color: #0087ff\">Dense</span>)                │ (<span style=\"color: #00d7ff; text-decoration-color: #00d7ff\">None</span>, <span style=\"color: #00af00; text-decoration-color: #00af00\">2</span>)              │           <span style=\"color: #00af00; text-decoration-color: #00af00\">202</span> │\n",
       "└─────────────────────────────────┴────────────────────────┴───────────────┘\n",
       "</pre>\n"
      ],
      "text/plain": [
       "┏━━━━━━━━━━━━━━━━━━━━━━━━━━━━━━━━━┳━━━━━━━━━━━━━━━━━━━━━━━━┳━━━━━━━━━━━━━━━┓\n",
       "┃\u001b[1m \u001b[0m\u001b[1mLayer (type)                   \u001b[0m\u001b[1m \u001b[0m┃\u001b[1m \u001b[0m\u001b[1mOutput Shape          \u001b[0m\u001b[1m \u001b[0m┃\u001b[1m \u001b[0m\u001b[1m      Param #\u001b[0m\u001b[1m \u001b[0m┃\n",
       "┡━━━━━━━━━━━━━━━━━━━━━━━━━━━━━━━━━╇━━━━━━━━━━━━━━━━━━━━━━━━╇━━━━━━━━━━━━━━━┩\n",
       "│ dense_58 (\u001b[38;5;33mDense\u001b[0m)                │ (\u001b[38;5;45mNone\u001b[0m, \u001b[38;5;34m100\u001b[0m)            │         \u001b[38;5;34m2,100\u001b[0m │\n",
       "├─────────────────────────────────┼────────────────────────┼───────────────┤\n",
       "│ dense_59 (\u001b[38;5;33mDense\u001b[0m)                │ (\u001b[38;5;45mNone\u001b[0m, \u001b[38;5;34m100\u001b[0m)            │        \u001b[38;5;34m10,100\u001b[0m │\n",
       "├─────────────────────────────────┼────────────────────────┼───────────────┤\n",
       "│ dense_60 (\u001b[38;5;33mDense\u001b[0m)                │ (\u001b[38;5;45mNone\u001b[0m, \u001b[38;5;34m2\u001b[0m)              │           \u001b[38;5;34m202\u001b[0m │\n",
       "└─────────────────────────────────┴────────────────────────┴───────────────┘\n"
      ]
     },
     "metadata": {},
     "output_type": "display_data"
    },
    {
     "data": {
      "text/html": [
       "<pre style=\"white-space:pre;overflow-x:auto;line-height:normal;font-family:Menlo,'DejaVu Sans Mono',consolas,'Courier New',monospace\"><span style=\"font-weight: bold\"> Total params: </span><span style=\"color: #00af00; text-decoration-color: #00af00\">12,402</span> (48.45 KB)\n",
       "</pre>\n"
      ],
      "text/plain": [
       "\u001b[1m Total params: \u001b[0m\u001b[38;5;34m12,402\u001b[0m (48.45 KB)\n"
      ]
     },
     "metadata": {},
     "output_type": "display_data"
    },
    {
     "data": {
      "text/html": [
       "<pre style=\"white-space:pre;overflow-x:auto;line-height:normal;font-family:Menlo,'DejaVu Sans Mono',consolas,'Courier New',monospace\"><span style=\"font-weight: bold\"> Trainable params: </span><span style=\"color: #00af00; text-decoration-color: #00af00\">12,402</span> (48.45 KB)\n",
       "</pre>\n"
      ],
      "text/plain": [
       "\u001b[1m Trainable params: \u001b[0m\u001b[38;5;34m12,402\u001b[0m (48.45 KB)\n"
      ]
     },
     "metadata": {},
     "output_type": "display_data"
    },
    {
     "data": {
      "text/html": [
       "<pre style=\"white-space:pre;overflow-x:auto;line-height:normal;font-family:Menlo,'DejaVu Sans Mono',consolas,'Courier New',monospace\"><span style=\"font-weight: bold\"> Non-trainable params: </span><span style=\"color: #00af00; text-decoration-color: #00af00\">0</span> (0.00 B)\n",
       "</pre>\n"
      ],
      "text/plain": [
       "\u001b[1m Non-trainable params: \u001b[0m\u001b[38;5;34m0\u001b[0m (0.00 B)\n"
      ]
     },
     "metadata": {},
     "output_type": "display_data"
    },
    {
     "name": "stdout",
     "output_type": "stream",
     "text": [
      "25/25 - 0s - 3ms/step - accuracy: 0.5278 - loss: 0.7028\n"
     ]
    }
   ],
   "source": [
    "# Create neural network model and add layers\n",
    "model = Sequential()\n",
    "model.add(Dense(units = 100, activation = 'relu', input_dim = 20))\n",
    "model.add(Dense(units = 100, activation = 'relu'))\n",
    "model.add(Dense(units=2, activation = 'softmax'))\n",
    "\n",
    "# Compile the model\n",
    "model.compile(optimizer = 'adam',\n",
    "              loss = 'categorical_crossentropy',\n",
    "              metrics = ['accuracy'])\n",
    "model.summary()\n",
    "\n",
    "model_loss2, model_accuracy2 = model.evaluate(\n",
    "    X_test_scaled2,\n",
    "    y_test_categorical2,\n",
    "    verbose=2)"
   ]
  },
  {
   "cell_type": "code",
   "execution_count": 377,
   "metadata": {},
   "outputs": [
    {
     "name": "stdout",
     "output_type": "stream",
     "text": [
      "Epoch 1/60\n",
      "75/75 - 1s - 8ms/step - accuracy: 0.5067 - loss: 0.6963\n",
      "Epoch 2/60\n",
      "75/75 - 0s - 424us/step - accuracy: 0.5160 - loss: 0.6912\n",
      "Epoch 3/60\n",
      "75/75 - 0s - 440us/step - accuracy: 0.5332 - loss: 0.6896\n",
      "Epoch 4/60\n",
      "75/75 - 0s - 438us/step - accuracy: 0.5349 - loss: 0.6870\n",
      "Epoch 5/60\n",
      "75/75 - 0s - 450us/step - accuracy: 0.5543 - loss: 0.6857\n",
      "Epoch 6/60\n",
      "75/75 - 0s - 442us/step - accuracy: 0.5636 - loss: 0.6816\n",
      "Epoch 7/60\n",
      "75/75 - 0s - 445us/step - accuracy: 0.5648 - loss: 0.6798\n",
      "Epoch 8/60\n",
      "75/75 - 0s - 453us/step - accuracy: 0.5694 - loss: 0.6770\n",
      "Epoch 9/60\n",
      "75/75 - 0s - 445us/step - accuracy: 0.5787 - loss: 0.6702\n",
      "Epoch 10/60\n",
      "75/75 - 0s - 452us/step - accuracy: 0.6044 - loss: 0.6644\n",
      "Epoch 11/60\n",
      "75/75 - 0s - 448us/step - accuracy: 0.5955 - loss: 0.6602\n",
      "Epoch 12/60\n",
      "75/75 - 0s - 475us/step - accuracy: 0.6136 - loss: 0.6572\n",
      "Epoch 13/60\n",
      "75/75 - 0s - 479us/step - accuracy: 0.6317 - loss: 0.6487\n",
      "Epoch 14/60\n",
      "75/75 - 0s - 508us/step - accuracy: 0.6292 - loss: 0.6447\n",
      "Epoch 15/60\n",
      "75/75 - 0s - 504us/step - accuracy: 0.6385 - loss: 0.6354\n",
      "Epoch 16/60\n",
      "75/75 - 0s - 483us/step - accuracy: 0.6435 - loss: 0.6317\n",
      "Epoch 17/60\n",
      "75/75 - 0s - 528us/step - accuracy: 0.6549 - loss: 0.6195\n",
      "Epoch 18/60\n",
      "75/75 - 0s - 537us/step - accuracy: 0.6747 - loss: 0.6077\n",
      "Epoch 19/60\n",
      "75/75 - 0s - 504us/step - accuracy: 0.6776 - loss: 0.6009\n",
      "Epoch 20/60\n",
      "75/75 - 0s - 510us/step - accuracy: 0.6768 - loss: 0.5941\n",
      "Epoch 21/60\n",
      "75/75 - 0s - 504us/step - accuracy: 0.7003 - loss: 0.5833\n",
      "Epoch 22/60\n",
      "75/75 - 0s - 491us/step - accuracy: 0.7176 - loss: 0.5692\n",
      "Epoch 23/60\n",
      "75/75 - 0s - 510us/step - accuracy: 0.7214 - loss: 0.5631\n",
      "Epoch 24/60\n",
      "75/75 - 0s - 474us/step - accuracy: 0.7214 - loss: 0.5538\n",
      "Epoch 25/60\n",
      "75/75 - 0s - 546us/step - accuracy: 0.7285 - loss: 0.5459\n",
      "Epoch 26/60\n",
      "75/75 - 0s - 519us/step - accuracy: 0.7466 - loss: 0.5356\n",
      "Epoch 27/60\n",
      "75/75 - 0s - 520us/step - accuracy: 0.7475 - loss: 0.5321\n",
      "Epoch 28/60\n",
      "75/75 - 0s - 510us/step - accuracy: 0.7753 - loss: 0.5104\n",
      "Epoch 29/60\n",
      "75/75 - 0s - 515us/step - accuracy: 0.7698 - loss: 0.5070\n",
      "Epoch 30/60\n",
      "75/75 - 0s - 517us/step - accuracy: 0.7757 - loss: 0.4899\n",
      "Epoch 31/60\n",
      "75/75 - 0s - 512us/step - accuracy: 0.7900 - loss: 0.4808\n",
      "Epoch 32/60\n",
      "75/75 - 0s - 525us/step - accuracy: 0.7921 - loss: 0.4712\n",
      "Epoch 33/60\n",
      "75/75 - 0s - 511us/step - accuracy: 0.8068 - loss: 0.4598\n",
      "Epoch 34/60\n",
      "75/75 - 0s - 519us/step - accuracy: 0.8098 - loss: 0.4521\n",
      "Epoch 35/60\n",
      "75/75 - 0s - 512us/step - accuracy: 0.8178 - loss: 0.4393\n",
      "Epoch 36/60\n",
      "75/75 - 0s - 498us/step - accuracy: 0.8274 - loss: 0.4227\n",
      "Epoch 37/60\n",
      "75/75 - 0s - 500us/step - accuracy: 0.8308 - loss: 0.4155\n",
      "Epoch 38/60\n",
      "75/75 - 0s - 495us/step - accuracy: 0.8413 - loss: 0.4095\n",
      "Epoch 39/60\n",
      "75/75 - 0s - 491us/step - accuracy: 0.8447 - loss: 0.3921\n",
      "Epoch 40/60\n",
      "75/75 - 0s - 533us/step - accuracy: 0.8342 - loss: 0.3954\n",
      "Epoch 41/60\n",
      "75/75 - 0s - 466us/step - accuracy: 0.8447 - loss: 0.3830\n",
      "Epoch 42/60\n",
      "75/75 - 0s - 453us/step - accuracy: 0.8620 - loss: 0.3670\n",
      "Epoch 43/60\n",
      "75/75 - 0s - 459us/step - accuracy: 0.8628 - loss: 0.3609\n",
      "Epoch 44/60\n",
      "75/75 - 0s - 454us/step - accuracy: 0.8716 - loss: 0.3486\n",
      "Epoch 45/60\n",
      "75/75 - 0s - 477us/step - accuracy: 0.8771 - loss: 0.3348\n",
      "Epoch 46/60\n",
      "75/75 - 0s - 456us/step - accuracy: 0.8826 - loss: 0.3318\n",
      "Epoch 47/60\n",
      "75/75 - 0s - 471us/step - accuracy: 0.8754 - loss: 0.3277\n",
      "Epoch 48/60\n",
      "75/75 - 0s - 491us/step - accuracy: 0.8796 - loss: 0.3191\n",
      "Epoch 49/60\n",
      "75/75 - 0s - 510us/step - accuracy: 0.8927 - loss: 0.3055\n",
      "Epoch 50/60\n",
      "75/75 - 0s - 521us/step - accuracy: 0.8977 - loss: 0.3006\n",
      "Epoch 51/60\n",
      "75/75 - 0s - 519us/step - accuracy: 0.9028 - loss: 0.2884\n",
      "Epoch 52/60\n",
      "75/75 - 0s - 498us/step - accuracy: 0.9146 - loss: 0.2717\n",
      "Epoch 53/60\n",
      "75/75 - 0s - 545us/step - accuracy: 0.9129 - loss: 0.2742\n",
      "Epoch 54/60\n",
      "75/75 - 0s - 485us/step - accuracy: 0.9171 - loss: 0.2669\n",
      "Epoch 55/60\n",
      "75/75 - 0s - 492us/step - accuracy: 0.9108 - loss: 0.2648\n",
      "Epoch 56/60\n",
      "75/75 - 0s - 467us/step - accuracy: 0.9280 - loss: 0.2441\n",
      "Epoch 57/60\n",
      "75/75 - 0s - 495us/step - accuracy: 0.9339 - loss: 0.2370\n",
      "Epoch 58/60\n",
      "75/75 - 0s - 495us/step - accuracy: 0.9348 - loss: 0.2312\n",
      "Epoch 59/60\n",
      "75/75 - 0s - 581us/step - accuracy: 0.9348 - loss: 0.2259\n",
      "Epoch 60/60\n",
      "75/75 - 0s - 477us/step - accuracy: 0.9461 - loss: 0.2077\n"
     ]
    },
    {
     "data": {
      "text/plain": [
       "<keras.src.callbacks.history.History at 0x3143b6350>"
      ]
     },
     "execution_count": 377,
     "metadata": {},
     "output_type": "execute_result"
    }
   ],
   "source": [
    "# Fit the model\n",
    "model.fit(X_train_scaled2,\n",
    "          y_train_categorical2,\n",
    "          epochs=60,\n",
    "          shuffle=2,\n",
    "          verbose=2)"
   ]
  },
  {
   "cell_type": "code",
   "execution_count": 378,
   "metadata": {},
   "outputs": [
    {
     "name": "stdout",
     "output_type": "stream",
     "text": [
      "\u001b[1m25/25\u001b[0m \u001b[32m━━━━━━━━━━━━━━━━━━━━\u001b[0m\u001b[37m\u001b[0m \u001b[1m0s\u001b[0m 787us/step\n"
     ]
    }
   ],
   "source": [
    "# Attempt predictions\n",
    "predictions2 = model.predict(X_test_scaled2)\n",
    "encoded_predictions2 = predictions2.argmax(axis=-1)\n",
    "prediction_labels2 = label_encoder.inverse_transform(encoded_predictions2)"
   ]
  },
  {
   "cell_type": "code",
   "execution_count": 379,
   "metadata": {},
   "outputs": [
    {
     "name": "stdout",
     "output_type": "stream",
     "text": [
      "391 false predictions out of 792 predictions ---> Counter({'male': 419, 'female': 373})\n",
      "Accuracy: 50.63%\n"
     ]
    }
   ],
   "source": [
    "false_predictions2 = prediction_labels2 != y_test2\n",
    "num_false_predictions2 = np.sum(false_predictions2)\n",
    "totalPredictions2 = len(prediction_labels2)\n",
    "\n",
    "print(f'{num_false_predictions2} false predictions out of {totalPredictions2} predictions ---> {Counter(prediction_labels2)}')\n",
    "print(f'Accuracy: {round((totalPredictions-num_false_predictions2) / totalPredictions2 * 100,2)}%')"
   ]
  },
  {
   "cell_type": "markdown",
   "metadata": {},
   "source": [
    "#### ** CONCLUSION:"
   ]
  },
  {
   "cell_type": "markdown",
   "metadata": {},
   "source": [
    "##### This attempt to load the model on a new dataset (i.e. \"voice2.csv\") was unsuccessful.  After much testing  and review, it was incontravertible that the culprit of the failed model is the dataset itself, which was auto-generated with ChatGPT in order to simulate the instance of brand new data.  This experiment aimed to ascertain whether or not this neural network model was robust to new, auto-generated data--it appears strongly conclusive that unfortunately, it is not.  Without the ability to input data that is consistent, I am unable to observe how this model performs on new data; however, performance evaluation of the first model at the top of the notebook is powerful and effective as evidenced by its loss and accuracy scores."
   ]
  }
 ],
 "metadata": {
  "kernelspec": {
   "display_name": "Python 3 (ipykernel)",
   "language": "python",
   "name": "python3"
  },
  "language_info": {
   "codemirror_mode": {
    "name": "ipython",
    "version": 3
   },
   "file_extension": ".py",
   "mimetype": "text/x-python",
   "name": "python",
   "nbconvert_exporter": "python",
   "pygments_lexer": "ipython3",
   "version": "3.11.7"
  },
  "varInspector": {
   "cols": {
    "lenName": 16,
    "lenType": 16,
    "lenVar": 40
   },
   "kernels_config": {
    "python": {
     "delete_cmd_postfix": "",
     "delete_cmd_prefix": "del ",
     "library": "var_list.py",
     "varRefreshCmd": "print(var_dic_list())"
    },
    "r": {
     "delete_cmd_postfix": ") ",
     "delete_cmd_prefix": "rm(",
     "library": "var_list.r",
     "varRefreshCmd": "cat(var_dic_list()) "
    }
   },
   "types_to_exclude": [
    "module",
    "function",
    "builtin_function_or_method",
    "instance",
    "_Feature"
   ],
   "window_display": false
  }
 },
 "nbformat": 4,
 "nbformat_minor": 4
}
